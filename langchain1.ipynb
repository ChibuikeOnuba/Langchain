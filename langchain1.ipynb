{
 "cells": [
  {
   "cell_type": "code",
   "execution_count": 2,
   "metadata": {},
   "outputs": [],
   "source": [
    "from key import openai_key\n",
    "import os\n",
    "os.environ['OPENAI_API_KEY'] = openai_key"
   ]
  },
  {
   "cell_type": "code",
   "execution_count": 12,
   "metadata": {},
   "outputs": [],
   "source": [
    "from langchain.llms import OpenAI\n",
    "llm = OpenAI(temperature=0.6)"
   ]
  },
  {
   "cell_type": "code",
   "execution_count": null,
   "metadata": {},
   "outputs": [],
   "source": [
    "restaurant_name = llm(\"I want to open a new Italian restaurant. Generate a fancy name for this\")\n",
    "print(restaurant_name)"
   ]
  },
  {
   "cell_type": "markdown",
   "metadata": {},
   "source": [
    "### **PROMPT TEMPLATES**"
   ]
  },
  {
   "cell_type": "code",
   "execution_count": 9,
   "metadata": {},
   "outputs": [
    {
     "data": {
      "text/plain": [
       "'I want to open a new Nigerian restaurant. Generate a fancy name for this'"
      ]
     },
     "execution_count": 9,
     "metadata": {},
     "output_type": "execute_result"
    }
   ],
   "source": [
    "from langchain.prompts import PromptTemplate\n",
    "\n",
    "prompt_template_name = PromptTemplate(\n",
    "    input_variables=['cuisine'],\n",
    "    template=\"I want to open a new {cuisine} restaurant. Generate a fancy name for this\"\n",
    ")\n",
    "prompt_template_name.format(cuisine=\"Nigerian\")"
   ]
  },
  {
   "cell_type": "markdown",
   "metadata": {},
   "source": [
    "### **LLMCHAIN**"
   ]
  },
  {
   "cell_type": "code",
   "execution_count": null,
   "metadata": {},
   "outputs": [],
   "source": [
    "from langchain.chains import LLMChain\n",
    "\n",
    "chain = LLMChain(\n",
    "    llm=llm,\n",
    "    prompt=prompt_template_name\n",
    ")\n",
    "chain.run(\"Mexican\")"
   ]
  },
  {
   "cell_type": "markdown",
   "metadata": {},
   "source": [
    "### **SIMPLE SEQUENTIAL CHAIN**"
   ]
  },
  {
   "cell_type": "code",
   "execution_count": null,
   "metadata": {},
   "outputs": [],
   "source": [
    "# Restaurant name prompt\n",
    "name_prompt = PromptTemplate(\n",
    "    input_variables=['cuisine'],\n",
    "    template=\"I want to open a new {cuisine} restaurant. Generate one fancy name for this\"\n",
    ")\n",
    "name_chain = LLMChain(llm=llm, prompt=name_prompt)\n",
    "\n",
    "# Menu prompt\n",
    "menu_prompt = PromptTemplate(\n",
    "    input_variables=['restaurant_name'],\n",
    "    template=\"Give me a menu for {restaurant_name}, return it seperated my commas\"\n",
    ")\n",
    "menu_chain = LLMChain(\n",
    "    llm=llm,\n",
    "    prompt=menu_prompt\n",
    ")"
   ]
  },
  {
   "cell_type": "code",
   "execution_count": null,
   "metadata": {},
   "outputs": [],
   "source": [
    "from langchain.chains import SimpleSequentialChain\n",
    "\n",
    "chain = SimpleSequentialChain(chains=[name_chain, menu_chain])\n",
    "response = chain.run(\"Mexican\")\n",
    "print(response)"
   ]
  },
  {
   "cell_type": "markdown",
   "metadata": {},
   "source": [
    "### **SEQUENTIAL CHAIN**"
   ]
  },
  {
   "cell_type": "code",
   "execution_count": 17,
   "metadata": {},
   "outputs": [],
   "source": [
    "# Restaurant name prompt\n",
    "name_prompt = PromptTemplate(\n",
    "    input_variables=['cuisine'],\n",
    "    template=\"I want to open a new {cuisine} restaurant. Generate one fancy name for this\"\n",
    ")\n",
    "name_chain = LLMChain(llm=llm, prompt=name_prompt, output_key=\"restaurant_name\")\n",
    "\n",
    "# Menu prompt\n",
    "menu_prompt = PromptTemplate(\n",
    "    input_variables=['restaurant_name'],\n",
    "    template=\"Give me a menu for {restaurant_name}, return it seperated my commas\"\n",
    ")\n",
    "menu_chain = LLMChain(\n",
    "    llm=llm,\n",
    "    prompt=menu_prompt,\n",
    "    output_key=\"menu_items\"\n",
    ")"
   ]
  },
  {
   "cell_type": "code",
   "execution_count": null,
   "metadata": {},
   "outputs": [],
   "source": [
    "from langchain.chains import SequentialChain\n",
    "\n",
    "SequentialChain(\n",
    "    chains = [name_chain, menu_chain],\n",
    "    input_variables = ['cuisine'],\n",
    "    output_variables = ['restaurant_name', 'menu_items']\n",
    ")\n",
    "chain({'cuisine':\"Arabic\"})"
   ]
  },
  {
   "cell_type": "code",
   "execution_count": null,
   "metadata": {},
   "outputs": [],
   "source": []
  }
 ],
 "metadata": {
  "kernelspec": {
   "display_name": "Python 3",
   "language": "python",
   "name": "python3"
  },
  "language_info": {
   "codemirror_mode": {
    "name": "ipython",
    "version": 3
   },
   "file_extension": ".py",
   "mimetype": "text/x-python",
   "name": "python",
   "nbconvert_exporter": "python",
   "pygments_lexer": "ipython3",
   "version": "3.12.3"
  }
 },
 "nbformat": 4,
 "nbformat_minor": 2
}
